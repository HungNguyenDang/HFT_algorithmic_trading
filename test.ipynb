{
 "cells": [
  {
   "cell_type": "code",
   "execution_count": null,
   "metadata": {},
   "outputs": [
    {
     "name": "stdout",
     "output_type": "stream",
     "text": [
      "hello\n",
      "              time     open     high      low    close  tick_volume  spread  \\\n",
      "1039520 2022-01-03  0.72582  0.72629  0.72568  0.72584         35.0      40   \n",
      "\n",
      "                  text_id  \n",
      "1039520  2022-01-03-00-00  \n",
      "                       time     open     high      low    close  tick_volume  \\\n",
      "1143198 2022-01-31 23:45:00  0.70675  0.70691  0.70656  0.70668        144.0   \n",
      "\n",
      "         spread           text_id  \n",
      "1143198      11  2022-01-31-23-45  \n"
     ]
    }
   ],
   "source": [
    "# TEST GETTING DATA FROM MONGODB\n",
    "import pandas as pd\n",
    "from pymongo import MongoClient\n",
    "import MetaTrader5 as mt5\n",
    "from datetime import datetime, timedelta\n",
    "import tkinter as tk\n",
    "\n",
    "from helpers import *\n",
    "\n",
    "print(\"hello\")\n",
    "df = collection_from_mongodb('AUDUSD_M15')\n",
    "data_m15 = df[(df['text_id'] >= '2022-01-00') & (df['text_id'] <= '2022-02-00')]\n"
   ]
  }
 ],
 "metadata": {
  "kernelspec": {
   "display_name": "Python 3",
   "language": "python",
   "name": "python3"
  },
  "language_info": {
   "codemirror_mode": {
    "name": "ipython",
    "version": 3
   },
   "file_extension": ".py",
   "mimetype": "text/x-python",
   "name": "python",
   "nbconvert_exporter": "python",
   "pygments_lexer": "ipython3",
   "version": "3.12.2"
  }
 },
 "nbformat": 4,
 "nbformat_minor": 2
}
