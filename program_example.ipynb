{
 "cells": [
  {
   "cell_type": "markdown",
   "metadata": {},
   "source": [
    "# Combine CSV files with name rules"
   ]
  },
  {
   "cell_type": "code",
   "execution_count": 4,
   "metadata": {},
   "outputs": [
    {
     "name": "stdout",
     "output_type": "stream",
     "text": [
      "2021\n",
      "2022\n",
      "2023\n",
      "2024\n"
     ]
    }
   ],
   "source": [
    "import pandas as pd\n",
    "dfs = []\n",
    "\n",
    "for cal_year in range(2021,2025):\n",
    "    df = pd.read_csv(f'result/jp225_from_1-{cal_year}_to_12-{cal_year}.csv', header=None)\n",
    "    dfs.append(df)\n",
    "    print(cal_year)\n",
    "result = pd.concat(dfs, axis=0)\n",
    "result.to_csv('result/jp225_2021-2024.csv', index=False, header=False)\n"
   ]
  },
  {
   "cell_type": "markdown",
   "metadata": {},
   "source": [
    "# Combine CSV files without name rules"
   ]
  },
  {
   "cell_type": "code",
   "execution_count": 7,
   "metadata": {},
   "outputs": [
    {
     "name": "stdout",
     "output_type": "stream",
     "text": [
      "result/AU_2010-2023.csv\n",
      "result/audusd_from_1-2024_to_11-2024.csv\n"
     ]
    }
   ],
   "source": [
    "import pandas as pd\n",
    "dfs = []\n",
    "files = ['result/AU_2010-2023.csv',\n",
    "    'result/audusd_from_1-2024_to_11-2024.csv']\n",
    "\n",
    "dfs=[]\n",
    "for file in files:\n",
    "    df = pd.read_csv(file, header=None)\n",
    "    dfs.append(df)\n",
    "    print(file)\n",
    "result = pd.concat(dfs, axis=0)\n",
    "result.to_csv('result/AU_2010-2024.csv', index=False, header=False)"
   ]
  },
  {
   "cell_type": "markdown",
   "metadata": {},
   "source": [
    "# Some processes"
   ]
  },
  {
   "cell_type": "code",
   "execution_count": 3,
   "metadata": {},
   "outputs": [
    {
     "name": "stdout",
     "output_type": "stream",
     "text": [
      "                     0        1            2            3     4      5\n",
      "0  2021-01-04 02:00:00  27403.8  27798.81671  27217.98329  30.0  47.04\n"
     ]
    }
   ],
   "source": [
    "import pandas as pd\n",
    "\n",
    "df = pd.read_csv('result/jp225_from_1-2021_to_12-2021.csv', header=None)\n",
    "df[4] = df[4]*100\n",
    "print(df.head(1))\n",
    "df.to_csv('result/jp225_from_1-2021_to_12-2021.csv', index=False, header=False)"
   ]
  },
  {
   "cell_type": "markdown",
   "metadata": {},
   "source": [
    "# Test env file"
   ]
  },
  {
   "cell_type": "code",
   "execution_count": 1,
   "metadata": {},
   "outputs": [
    {
     "name": "stdout",
     "output_type": "stream",
     "text": [
      "HUNG-LAPTOP\n"
     ]
    }
   ],
   "source": [
    "from dotenv import load_dotenv, dotenv_values\n",
    "import os\n",
    "\n",
    "load_dotenv()\n",
    "\n",
    "server = os.getenv(\"SQL_SERVER\")"
   ]
  }
 ],
 "metadata": {
  "kernelspec": {
   "display_name": "Python 3",
   "language": "python",
   "name": "python3"
  },
  "language_info": {
   "codemirror_mode": {
    "name": "ipython",
    "version": 3
   },
   "file_extension": ".py",
   "mimetype": "text/x-python",
   "name": "python",
   "nbconvert_exporter": "python",
   "pygments_lexer": "ipython3",
   "version": "3.12.2"
  }
 },
 "nbformat": 4,
 "nbformat_minor": 2
}
